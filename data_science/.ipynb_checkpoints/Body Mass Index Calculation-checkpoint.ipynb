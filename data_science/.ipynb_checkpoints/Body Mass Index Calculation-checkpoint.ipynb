{
 "cells": [
  {
   "cell_type": "markdown",
   "id": "1b8ff417",
   "metadata": {},
   "source": [
    "# Body Mass Index\n",
    "# Input Weight\n"
   ]
  },
  {
   "cell_type": "code",
   "execution_count": 1,
   "id": "1981cca0",
   "metadata": {},
   "outputs": [
    {
     "name": "stdout",
     "output_type": "stream",
     "text": [
      "Please tell us your name: Haider\n"
     ]
    }
   ],
   "source": [
    "name = input('Please tell us your name: ')"
   ]
  },
  {
   "cell_type": "code",
   "execution_count": 2,
   "id": "6b53de9c",
   "metadata": {
    "scrolled": true
   },
   "outputs": [
    {
     "name": "stdout",
     "output_type": "stream",
     "text": [
      "Please tell your weight in Kg: 72\n"
     ]
    }
   ],
   "source": [
    "weight = input(\"Please tell your weight in Kg: \")"
   ]
  },
  {
   "cell_type": "code",
   "execution_count": 3,
   "id": "3f5f8d13",
   "metadata": {},
   "outputs": [],
   "source": [
    "weight = float(weight)"
   ]
  },
  {
   "cell_type": "code",
   "execution_count": 4,
   "id": "a424dbfb",
   "metadata": {
    "scrolled": true
   },
   "outputs": [
    {
     "name": "stdout",
     "output_type": "stream",
     "text": [
      "Please tell your height in meters: 1.67\n"
     ]
    }
   ],
   "source": [
    "height = input(\"Please tell your height in meters: \")"
   ]
  },
  {
   "cell_type": "code",
   "execution_count": 5,
   "id": "21bcfe8d",
   "metadata": {},
   "outputs": [],
   "source": [
    "height = float (height)"
   ]
  },
  {
   "cell_type": "code",
   "execution_count": 6,
   "id": "06e8913e",
   "metadata": {
    "scrolled": true
   },
   "outputs": [
    {
     "data": {
      "text/plain": [
       "25.816630212628635"
      ]
     },
     "execution_count": 6,
     "metadata": {},
     "output_type": "execute_result"
    }
   ],
   "source": [
    "bmi = weight / (height**2)\n",
    "bmi"
   ]
  },
  {
   "cell_type": "code",
   "execution_count": 10,
   "id": "3a1e1107",
   "metadata": {
    "scrolled": false
   },
   "outputs": [
    {
     "name": "stdout",
     "output_type": "stream",
     "text": [
      "My name is  Haider my BMI is 25.816630212628635\n"
     ]
    }
   ],
   "source": [
    "print('My name is ',name,'my BMI is', bmi)"
   ]
  },
  {
   "cell_type": "code",
   "execution_count": null,
   "id": "76d4b7a2",
   "metadata": {},
   "outputs": [],
   "source": []
  }
 ],
 "metadata": {
  "kernelspec": {
   "display_name": "Python 3 (ipykernel)",
   "language": "python",
   "name": "python3"
  },
  "language_info": {
   "codemirror_mode": {
    "name": "ipython",
    "version": 3
   },
   "file_extension": ".py",
   "mimetype": "text/x-python",
   "name": "python",
   "nbconvert_exporter": "python",
   "pygments_lexer": "ipython3",
   "version": "3.9.7"
  }
 },
 "nbformat": 4,
 "nbformat_minor": 5
}
