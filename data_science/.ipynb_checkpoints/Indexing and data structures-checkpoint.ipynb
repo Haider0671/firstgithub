{
 "cells": [
  {
   "cell_type": "markdown",
   "id": "19c3a5f4",
   "metadata": {},
   "source": [
    "# Learn About Indexing?\n",
    "## What is indexing"
   ]
  },
  {
   "cell_type": "code",
   "execution_count": 1,
   "id": "d0682e91",
   "metadata": {},
   "outputs": [
    {
     "data": {
      "text/plain": [
       "'Dahi Bhallay'"
      ]
     },
     "execution_count": 1,
     "metadata": {},
     "output_type": "execute_result"
    }
   ],
   "source": [
    "# Let's make a string\n",
    "a = 'Dahi Bhallay'\n",
    "a"
   ]
  },
  {
   "cell_type": "code",
   "execution_count": 2,
   "id": "62e9b199",
   "metadata": {},
   "outputs": [
    {
     "data": {
      "text/plain": [
       "'D'"
      ]
     },
     "execution_count": 2,
     "metadata": {},
     "output_type": "execute_result"
    }
   ],
   "source": [
    "a[0] # it will give us the first digit/alphabet of string"
   ]
  },
  {
   "cell_type": "code",
   "execution_count": 3,
   "id": "33cd6ec8",
   "metadata": {},
   "outputs": [
    {
     "data": {
      "text/plain": [
       "'h'"
      ]
     },
     "execution_count": 3,
     "metadata": {},
     "output_type": "execute_result"
    }
   ],
   "source": [
    "a[2]"
   ]
  },
  {
   "cell_type": "code",
   "execution_count": 4,
   "id": "ad2dfbc7",
   "metadata": {},
   "outputs": [
    {
     "data": {
      "text/plain": [
       "12"
      ]
     },
     "execution_count": 4,
     "metadata": {},
     "output_type": "execute_result"
    }
   ],
   "source": [
    "# check length of a string\n",
    "\n",
    "len(a)"
   ]
  },
  {
   "cell_type": "code",
   "execution_count": 5,
   "id": "3e27eabb",
   "metadata": {},
   "outputs": [
    {
     "data": {
      "text/plain": [
       "'y'"
      ]
     },
     "execution_count": 5,
     "metadata": {},
     "output_type": "execute_result"
    }
   ],
   "source": [
    "a[11] # since length is 12, this will give us last element of the string"
   ]
  },
  {
   "cell_type": "code",
   "execution_count": 6,
   "id": "f88c2d87",
   "metadata": {},
   "outputs": [
    {
     "data": {
      "text/plain": [
       "'Dahi '"
      ]
     },
     "execution_count": 6,
     "metadata": {},
     "output_type": "execute_result"
    }
   ],
   "source": [
    "a[0:5]"
   ]
  },
  {
   "cell_type": "code",
   "execution_count": 7,
   "id": "fa6bb7cb",
   "metadata": {},
   "outputs": [
    {
     "data": {
      "text/plain": [
       "'Dahi B'"
      ]
     },
     "execution_count": 7,
     "metadata": {},
     "output_type": "execute_result"
    }
   ],
   "source": [
    "a[0:6] #exclusive element is the last index element, in this case '6'"
   ]
  },
  {
   "cell_type": "code",
   "execution_count": 8,
   "id": "5bc4531b",
   "metadata": {},
   "outputs": [
    {
     "data": {
      "text/plain": [
       "'y'"
      ]
     },
     "execution_count": 8,
     "metadata": {},
     "output_type": "execute_result"
    }
   ],
   "source": [
    "a[-1] # this will also give us last element, as we start the index count from last element"
   ]
  },
  {
   "cell_type": "code",
   "execution_count": 9,
   "id": "6ba359a7",
   "metadata": {},
   "outputs": [
    {
     "data": {
      "text/plain": [
       "'alla'"
      ]
     },
     "execution_count": 9,
     "metadata": {},
     "output_type": "execute_result"
    }
   ],
   "source": [
    "a[-5:-1] # in this code, the last term is not included in the index count, that's why 'y' is not printed"
   ]
  },
  {
   "cell_type": "code",
   "execution_count": 10,
   "id": "4411eb67",
   "metadata": {},
   "outputs": [
    {
     "data": {
      "text/plain": [
       "'allay'"
      ]
     },
     "execution_count": 10,
     "metadata": {},
     "output_type": "execute_result"
    }
   ],
   "source": [
    "a[-5:12] # to include last element, we need to write it like this"
   ]
  },
  {
   "cell_type": "markdown",
   "id": "de835794",
   "metadata": {},
   "source": [
    "## Strings Methods"
   ]
  },
  {
   "cell_type": "code",
   "execution_count": 11,
   "id": "75fa1ed2",
   "metadata": {},
   "outputs": [
    {
     "data": {
      "text/plain": [
       "'biryani, pulao'"
      ]
     },
     "execution_count": 11,
     "metadata": {},
     "output_type": "execute_result"
    }
   ],
   "source": [
    "food = \"biryani, pulao\"\n",
    "food"
   ]
  },
  {
   "cell_type": "code",
   "execution_count": 12,
   "id": "97503ea1",
   "metadata": {
    "scrolled": true
   },
   "outputs": [
    {
     "data": {
      "text/plain": [
       "'Biryani, pulao'"
      ]
     },
     "execution_count": 12,
     "metadata": {},
     "output_type": "execute_result"
    }
   ],
   "source": [
    "food.capitalize() # this capitalized the first alphabet of the string"
   ]
  },
  {
   "cell_type": "code",
   "execution_count": 13,
   "id": "043d1ec2",
   "metadata": {},
   "outputs": [
    {
     "data": {
      "text/plain": [
       "'BIRYANI, PULAO'"
      ]
     },
     "execution_count": 13,
     "metadata": {},
     "output_type": "execute_result"
    }
   ],
   "source": [
    "food.upper() # this turns all the string elements to uppercase letters"
   ]
  },
  {
   "cell_type": "code",
   "execution_count": 14,
   "id": "6a94f500",
   "metadata": {
    "scrolled": true
   },
   "outputs": [
    {
     "data": {
      "text/plain": [
       "'biryani, pulao'"
      ]
     },
     "execution_count": 14,
     "metadata": {},
     "output_type": "execute_result"
    }
   ],
   "source": [
    "food.lower() # this turns all the string elements to lowercase letters"
   ]
  },
  {
   "cell_type": "code",
   "execution_count": 15,
   "id": "f1a57ccb",
   "metadata": {},
   "outputs": [
    {
     "data": {
      "text/plain": [
       "2"
      ]
     },
     "execution_count": 15,
     "metadata": {},
     "output_type": "execute_result"
    }
   ],
   "source": [
    "food.count(\"a\") # this tells us how many times \"a\" has appeared in the 'food' string"
   ]
  },
  {
   "cell_type": "code",
   "execution_count": 16,
   "id": "0d4abc9c",
   "metadata": {
    "scrolled": true
   },
   "outputs": [
    {
     "data": {
      "text/plain": [
       "0"
      ]
     },
     "execution_count": 16,
     "metadata": {},
     "output_type": "execute_result"
    }
   ],
   "source": [
    "food.count('A') # this shows that this function is case sensitive."
   ]
  },
  {
   "cell_type": "markdown",
   "id": "4bba3eb2",
   "metadata": {},
   "source": [
    "## Finding an index number in the string"
   ]
  },
  {
   "cell_type": "code",
   "execution_count": 17,
   "id": "65a17809",
   "metadata": {},
   "outputs": [
    {
     "data": {
      "text/plain": [
       "'Haider Ali'"
      ]
     },
     "execution_count": 17,
     "metadata": {},
     "output_type": "execute_result"
    }
   ],
   "source": [
    "name = \"Haider Ali\"\n",
    "name"
   ]
  },
  {
   "cell_type": "code",
   "execution_count": 18,
   "id": "92f87fbc",
   "metadata": {},
   "outputs": [
    {
     "data": {
      "text/plain": [
       "1"
      ]
     },
     "execution_count": 18,
     "metadata": {},
     "output_type": "execute_result"
    }
   ],
   "source": [
    "name.find(\"a\") # this tells us the index of the \"a\" at the first encounter."
   ]
  },
  {
   "cell_type": "code",
   "execution_count": 19,
   "id": "c9b8f392",
   "metadata": {},
   "outputs": [
    {
     "data": {
      "text/plain": [
       "7"
      ]
     },
     "execution_count": 19,
     "metadata": {},
     "output_type": "execute_result"
    }
   ],
   "source": [
    "name.find(\"A\") # This is also case sensitive"
   ]
  },
  {
   "cell_type": "code",
   "execution_count": 20,
   "id": "c8639759",
   "metadata": {},
   "outputs": [
    {
     "data": {
      "text/plain": [
       "2"
      ]
     },
     "execution_count": 20,
     "metadata": {},
     "output_type": "execute_result"
    }
   ],
   "source": [
    "name.find(\"i\")"
   ]
  },
  {
   "cell_type": "code",
   "execution_count": 21,
   "id": "f86ef90c",
   "metadata": {},
   "outputs": [
    {
     "data": {
      "text/plain": [
       "-1"
      ]
     },
     "execution_count": 21,
     "metadata": {},
     "output_type": "execute_result"
    }
   ],
   "source": [
    "name.find(\"b\") # there is no alphabet 'b' in the string"
   ]
  },
  {
   "cell_type": "markdown",
   "id": "7ca8bf92",
   "metadata": {},
   "source": [
    "## Split a string"
   ]
  },
  {
   "cell_type": "code",
   "execution_count": 22,
   "id": "6c730a4f",
   "metadata": {},
   "outputs": [
    {
     "data": {
      "text/plain": [
       "'I love biryani, samosa, pakora and fruit chaat'"
      ]
     },
     "execution_count": 22,
     "metadata": {},
     "output_type": "execute_result"
    }
   ],
   "source": [
    "food = \"I love biryani, samosa, pakora and fruit chaat\"\n",
    "food"
   ]
  },
  {
   "cell_type": "code",
   "execution_count": 23,
   "id": "46c7f3a6",
   "metadata": {},
   "outputs": [
    {
     "data": {
      "text/plain": [
       "['I love biryani, ', 'amo', 'a, pakora and fruit chaat']"
      ]
     },
     "execution_count": 23,
     "metadata": {},
     "output_type": "execute_result"
    }
   ],
   "source": [
    "food.split(\"s\") # this splits the string whenever letter 's' comes up in the string"
   ]
  },
  {
   "cell_type": "code",
   "execution_count": 24,
   "id": "e4e65d58",
   "metadata": {
    "scrolled": true
   },
   "outputs": [
    {
     "data": {
      "text/plain": [
       "['I love biryani', ' samosa', ' pakora and fruit chaat']"
      ]
     },
     "execution_count": 24,
     "metadata": {},
     "output_type": "execute_result"
    }
   ],
   "source": [
    "food.split(\",\") # this splits the string whenever a ',' comma comes up"
   ]
  },
  {
   "cell_type": "markdown",
   "id": "7426b042",
   "metadata": {},
   "source": [
    "## Basic Data Structures in Python\n",
    "\n",
    "1- Tuple <br>\n",
    "2- List <br>\n",
    "3- Dictionaries <br>\n",
    "4- Set <br>"
   ]
  },
  {
   "cell_type": "markdown",
   "id": "83ac98c7",
   "metadata": {},
   "source": [
    "## Tuple\n",
    "- ordered collection of elements\n",
    "- enclosed in parantheses \"()\"\n",
    "- different kinds of elements can be stored\n",
    "- once elements are stored, you cannot change them. (Unmutatable)"
   ]
  },
  {
   "cell_type": "code",
   "execution_count": 25,
   "id": "27ab7f88",
   "metadata": {},
   "outputs": [
    {
     "data": {
      "text/plain": [
       "(1, 'python', True, 2.5)"
      ]
     },
     "execution_count": 25,
     "metadata": {},
     "output_type": "execute_result"
    }
   ],
   "source": [
    "tup1 = (1, \"python\", True, 2.5)\n",
    "tup1"
   ]
  },
  {
   "cell_type": "code",
   "execution_count": 26,
   "id": "5f3f639f",
   "metadata": {},
   "outputs": [
    {
     "data": {
      "text/plain": [
       "tuple"
      ]
     },
     "execution_count": 26,
     "metadata": {},
     "output_type": "execute_result"
    }
   ],
   "source": [
    "# check type , it will give us tuple variable\n",
    "type(tup1)"
   ]
  },
  {
   "cell_type": "markdown",
   "id": "3fb9db93",
   "metadata": {},
   "source": [
    "### -indexing in tuple"
   ]
  },
  {
   "cell_type": "code",
   "execution_count": 27,
   "id": "e35bf617",
   "metadata": {},
   "outputs": [
    {
     "data": {
      "text/plain": [
       "1"
      ]
     },
     "execution_count": 27,
     "metadata": {},
     "output_type": "execute_result"
    }
   ],
   "source": [
    "tup1[0]"
   ]
  },
  {
   "cell_type": "code",
   "execution_count": 28,
   "id": "fea7ff52",
   "metadata": {},
   "outputs": [
    {
     "data": {
      "text/plain": [
       "'python'"
      ]
     },
     "execution_count": 28,
     "metadata": {},
     "output_type": "execute_result"
    }
   ],
   "source": [
    "tup1[1]"
   ]
  },
  {
   "cell_type": "code",
   "execution_count": 29,
   "id": "674894ea",
   "metadata": {},
   "outputs": [
    {
     "data": {
      "text/plain": [
       "1"
      ]
     },
     "execution_count": 29,
     "metadata": {},
     "output_type": "execute_result"
    }
   ],
   "source": [
    "tup1.count(2.5) # tells us the number of times '2.5' is present in tuple variable"
   ]
  },
  {
   "cell_type": "code",
   "execution_count": 30,
   "id": "98765f8c",
   "metadata": {},
   "outputs": [
    {
     "data": {
      "text/plain": [
       "(1, 'python', True)"
      ]
     },
     "execution_count": 30,
     "metadata": {},
     "output_type": "execute_result"
    }
   ],
   "source": [
    "tup1[0:3]"
   ]
  },
  {
   "cell_type": "code",
   "execution_count": 31,
   "id": "4ba4754d",
   "metadata": {},
   "outputs": [
    {
     "data": {
      "text/plain": [
       "4"
      ]
     },
     "execution_count": 31,
     "metadata": {},
     "output_type": "execute_result"
    }
   ],
   "source": [
    "len(tup1)"
   ]
  },
  {
   "cell_type": "code",
   "execution_count": 32,
   "id": "a8c313bc",
   "metadata": {},
   "outputs": [
    {
     "data": {
      "text/plain": [
       "(2, False, 'Haider', 3.5)"
      ]
     },
     "execution_count": 32,
     "metadata": {},
     "output_type": "execute_result"
    }
   ],
   "source": [
    "tup2 = (2, False, \"Haider\", 3.5)\n",
    "tup2"
   ]
  },
  {
   "cell_type": "code",
   "execution_count": 33,
   "id": "b771d6d7",
   "metadata": {},
   "outputs": [
    {
     "data": {
      "text/plain": [
       "(1, 'python', True, 2.5, 2, False, 'Haider', 3.5)"
      ]
     },
     "execution_count": 33,
     "metadata": {},
     "output_type": "execute_result"
    }
   ],
   "source": [
    "tup1+tup2 # this will concatenate the two tuple variables"
   ]
  },
  {
   "cell_type": "code",
   "execution_count": 34,
   "id": "6198d171",
   "metadata": {},
   "outputs": [
    {
     "data": {
      "text/plain": [
       "(1, 'python', True, 2.5, 1, 'python', True, 2.5)"
      ]
     },
     "execution_count": 34,
     "metadata": {},
     "output_type": "execute_result"
    }
   ],
   "source": [
    "tup1*2 # this will repeat the tup1 variable twice."
   ]
  },
  {
   "cell_type": "code",
   "execution_count": 35,
   "id": "be83d0aa",
   "metadata": {},
   "outputs": [
    {
     "data": {
      "text/plain": [
       "(1,\n",
       " 'python',\n",
       " True,\n",
       " 2.5,\n",
       " 1,\n",
       " 'python',\n",
       " True,\n",
       " 2.5,\n",
       " 2,\n",
       " False,\n",
       " 'Haider',\n",
       " 3.5,\n",
       " 2,\n",
       " False,\n",
       " 'Haider',\n",
       " 3.5,\n",
       " 2,\n",
       " False,\n",
       " 'Haider',\n",
       " 3.5)"
      ]
     },
     "execution_count": 35,
     "metadata": {},
     "output_type": "execute_result"
    }
   ],
   "source": [
    "tup1*2 + tup2*3 # this will repeat tup1 2 times and tup2 3 times and then concatenate them as well"
   ]
  },
  {
   "cell_type": "code",
   "execution_count": 36,
   "id": "6c78c20f",
   "metadata": {},
   "outputs": [
    {
     "data": {
      "text/plain": [
       "(20, 30, 45, 60, 80, 100)"
      ]
     },
     "execution_count": 36,
     "metadata": {},
     "output_type": "execute_result"
    }
   ],
   "source": [
    "tup3 = (20,30,45,60,80,100)\n",
    "tup3"
   ]
  },
  {
   "cell_type": "code",
   "execution_count": 37,
   "id": "8de69be5",
   "metadata": {},
   "outputs": [
    {
     "data": {
      "text/plain": [
       "(1, 'python', True, 2.5, 20, 30, 45, 60, 80, 100)"
      ]
     },
     "execution_count": 37,
     "metadata": {},
     "output_type": "execute_result"
    }
   ],
   "source": [
    "# concatenation\n",
    "tup1+tup3"
   ]
  },
  {
   "cell_type": "code",
   "execution_count": 38,
   "id": "003e4b32",
   "metadata": {},
   "outputs": [
    {
     "data": {
      "text/plain": [
       "(20, 30, 45, 60, 80, 100, 20, 30, 45, 60, 80, 100)"
      ]
     },
     "execution_count": 38,
     "metadata": {},
     "output_type": "execute_result"
    }
   ],
   "source": [
    "#repitition not multiplication\n",
    "tup3*2"
   ]
  },
  {
   "cell_type": "code",
   "execution_count": 39,
   "id": "95a47503",
   "metadata": {},
   "outputs": [
    {
     "data": {
      "text/plain": [
       "20"
      ]
     },
     "execution_count": 39,
     "metadata": {},
     "output_type": "execute_result"
    }
   ],
   "source": [
    "#minimum\n",
    "min(tup3)"
   ]
  },
  {
   "cell_type": "code",
   "execution_count": 40,
   "id": "048376b5",
   "metadata": {},
   "outputs": [
    {
     "data": {
      "text/plain": [
       "100"
      ]
     },
     "execution_count": 40,
     "metadata": {},
     "output_type": "execute_result"
    }
   ],
   "source": [
    "#maximum\n",
    "max(tup3)"
   ]
  },
  {
   "cell_type": "markdown",
   "id": "2b81cddd",
   "metadata": {},
   "source": [
    "---"
   ]
  },
  {
   "cell_type": "markdown",
   "id": "0ff90648",
   "metadata": {},
   "source": [
    "## List\n",
    "- Ordered collection of elements\n",
    "- enclosed with square brackets [     ]\n",
    "- mutable, elements can be changed after storing"
   ]
  },
  {
   "cell_type": "code",
   "execution_count": 41,
   "id": "cf2c32ac",
   "metadata": {},
   "outputs": [
    {
     "data": {
      "text/plain": [
       "[1, 'python', True, 2.5]"
      ]
     },
     "execution_count": 41,
     "metadata": {},
     "output_type": "execute_result"
    }
   ],
   "source": [
    "list1 = [1, \"python\", True, 2.5]\n",
    "list1"
   ]
  },
  {
   "cell_type": "code",
   "execution_count": 42,
   "id": "4072368e",
   "metadata": {},
   "outputs": [
    {
     "data": {
      "text/plain": [
       "4"
      ]
     },
     "execution_count": 42,
     "metadata": {},
     "output_type": "execute_result"
    }
   ],
   "source": [
    "len(list1)"
   ]
  },
  {
   "cell_type": "code",
   "execution_count": 43,
   "id": "447980db",
   "metadata": {},
   "outputs": [
    {
     "data": {
      "text/plain": [
       "[1, 'python', True, 2.5, 1, 'python', True, 2.5]"
      ]
     },
     "execution_count": 43,
     "metadata": {},
     "output_type": "execute_result"
    }
   ],
   "source": [
    "list1*2"
   ]
  },
  {
   "cell_type": "code",
   "execution_count": 44,
   "id": "52a7be1d",
   "metadata": {},
   "outputs": [
    {
     "data": {
      "text/plain": [
       "1"
      ]
     },
     "execution_count": 44,
     "metadata": {},
     "output_type": "execute_result"
    }
   ],
   "source": [
    "list1[0]"
   ]
  },
  {
   "cell_type": "code",
   "execution_count": 45,
   "id": "652173a6",
   "metadata": {},
   "outputs": [
    {
     "data": {
      "text/plain": [
       "[1, 'python', True, 2.5]"
      ]
     },
     "execution_count": 45,
     "metadata": {},
     "output_type": "execute_result"
    }
   ],
   "source": [
    "list1[0:4]"
   ]
  },
  {
   "cell_type": "code",
   "execution_count": 46,
   "id": "fd8656bc",
   "metadata": {},
   "outputs": [
    {
     "data": {
      "text/plain": [
       "[2, 'Haider', 'Ali', True, 56.3]"
      ]
     },
     "execution_count": 46,
     "metadata": {},
     "output_type": "execute_result"
    }
   ],
   "source": [
    "list2= [2, \"Haider\", \"Ali\", True, 56.3]\n",
    "list2"
   ]
  },
  {
   "cell_type": "code",
   "execution_count": 47,
   "id": "dda8806e",
   "metadata": {},
   "outputs": [
    {
     "data": {
      "text/plain": [
       "[1, 'python', True, 2.5, 2, 'Haider', 'Ali', True, 56.3]"
      ]
     },
     "execution_count": 47,
     "metadata": {},
     "output_type": "execute_result"
    }
   ],
   "source": [
    "list1+list2"
   ]
  },
  {
   "cell_type": "code",
   "execution_count": 48,
   "id": "7783722e",
   "metadata": {
    "scrolled": true
   },
   "outputs": [
    {
     "data": {
      "text/plain": [
       "[675, 240, 355]"
      ]
     },
     "execution_count": 48,
     "metadata": {},
     "output_type": "execute_result"
    }
   ],
   "source": [
    "list1= [675,240,355]\n",
    "list1"
   ]
  },
  {
   "cell_type": "code",
   "execution_count": 49,
   "id": "1b2bdb1f",
   "metadata": {},
   "outputs": [
    {
     "data": {
      "text/plain": [
       "[240, 355, 675]"
      ]
     },
     "execution_count": 49,
     "metadata": {},
     "output_type": "execute_result"
    }
   ],
   "source": [
    "list1.sort() # this function sorts out the lists in ascending order. this will work only for integer or float\n",
    "list1"
   ]
  },
  {
   "cell_type": "code",
   "execution_count": 50,
   "id": "2e2178b7",
   "metadata": {},
   "outputs": [
    {
     "data": {
      "text/plain": [
       "['H', 'a', 'i']"
      ]
     },
     "execution_count": 50,
     "metadata": {},
     "output_type": "execute_result"
    }
   ],
   "source": [
    "list1 = ['H', 'a','i']\n",
    "list1.sort() # this function sorts out the lists in ascending order. \n",
    "            #this can work for strings as well. first it will write capital letters then small letters in alphabetical order\n",
    "list1"
   ]
  },
  {
   "cell_type": "code",
   "execution_count": 51,
   "id": "5393a27f",
   "metadata": {},
   "outputs": [
    {
     "data": {
      "text/plain": [
       "['Dog', 'Hi', 'apple', 'ink']"
      ]
     },
     "execution_count": 51,
     "metadata": {},
     "output_type": "execute_result"
    }
   ],
   "source": [
    "list1 = ['Hi', 'apple','ink','Dog']\n",
    "list1.sort() # this function sorts out the lists in ascending order. \n",
    "            #this can work for strings as well. first it will write capital letters then small letters in alphabetical order\n",
    "list1"
   ]
  },
  {
   "cell_type": "code",
   "execution_count": 52,
   "id": "9b0cbded",
   "metadata": {},
   "outputs": [
    {
     "data": {
      "text/plain": [
       "[]"
      ]
     },
     "execution_count": 52,
     "metadata": {},
     "output_type": "execute_result"
    }
   ],
   "source": [
    "list1.clear() # it clears all the entries of the list\n",
    "list1"
   ]
  },
  {
   "cell_type": "code",
   "execution_count": 53,
   "id": "5f0f49ba",
   "metadata": {},
   "outputs": [
    {
     "data": {
      "text/plain": [
       "'Hi'"
      ]
     },
     "execution_count": 53,
     "metadata": {},
     "output_type": "execute_result"
    }
   ],
   "source": [
    "list1 = ['Hi', 'apple','ink','Dog']\n",
    "copied_list = list1.copy()\n",
    "copied_list[0]"
   ]
  },
  {
   "cell_type": "code",
   "execution_count": 54,
   "id": "1d06a3b9",
   "metadata": {},
   "outputs": [
    {
     "name": "stdout",
     "output_type": "stream",
     "text": [
      "copied list: ['Hi', 'apple', 'ink', 'Dog']\n",
      "original list: ['Hi', 'apple', 'ink', 'Dog']\n"
     ]
    }
   ],
   "source": [
    "#copied_list.append(\"Imran Khan\") # this will keep on adding the new element as many times you run the code\n",
    "\n",
    "print('copied list:', copied_list)\n",
    "print('original list:', list1)"
   ]
  },
  {
   "cell_type": "code",
   "execution_count": 55,
   "id": "fb78cb5b",
   "metadata": {},
   "outputs": [
    {
     "data": {
      "text/plain": [
       "['Hi', 'apple', 'Cat', 'ink', 'Dog']"
      ]
     },
     "execution_count": 55,
     "metadata": {},
     "output_type": "execute_result"
    }
   ],
   "source": [
    "list1.insert(2, \"Cat\") #insert function of the list will insert the element at the desired index in the list.\n",
    "                        # in this case, this line will insert \"cat\" at index 2 in list1\n",
    "list1"
   ]
  },
  {
   "cell_type": "code",
   "execution_count": 56,
   "id": "8e1c0b5e",
   "metadata": {},
   "outputs": [
    {
     "data": {
      "text/plain": [
       "['jan', 'Feb', 'March']"
      ]
     },
     "execution_count": 56,
     "metadata": {},
     "output_type": "execute_result"
    }
   ],
   "source": [
    "list2= [\"jan\", \"Feb\", \"March\"]  #defining a second list\n",
    "list2"
   ]
  },
  {
   "cell_type": "code",
   "execution_count": 57,
   "id": "45cc13f3",
   "metadata": {},
   "outputs": [
    {
     "data": {
      "text/plain": [
       "['Hi', 'apple', 'Cat', 'ink', 'Dog', 'jan', 'Feb', 'March']"
      ]
     },
     "execution_count": 57,
     "metadata": {},
     "output_type": "execute_result"
    }
   ],
   "source": [
    "list1.extend(list2) # this function will extend list1 with list2.\n",
    "list1"
   ]
  },
  {
   "cell_type": "code",
   "execution_count": 58,
   "id": "c1e77a50",
   "metadata": {},
   "outputs": [
    {
     "data": {
      "text/plain": [
       "2"
      ]
     },
     "execution_count": 58,
     "metadata": {},
     "output_type": "execute_result"
    }
   ],
   "source": [
    "list1.index(\"Cat\") # this will tell us the index of \"Cat\" in the list1"
   ]
  },
  {
   "cell_type": "code",
   "execution_count": 59,
   "id": "342e9cc0",
   "metadata": {},
   "outputs": [],
   "source": [
    "list1.insert(0, 20)"
   ]
  },
  {
   "cell_type": "code",
   "execution_count": 60,
   "id": "a7cd285f",
   "metadata": {},
   "outputs": [
    {
     "data": {
      "text/plain": [
       "[20, 'Hi', 'apple', 'Cat', 'ink', 'Dog', 'jan', 'Feb', 'March']"
      ]
     },
     "execution_count": 60,
     "metadata": {},
     "output_type": "execute_result"
    }
   ],
   "source": [
    "list1"
   ]
  },
  {
   "cell_type": "code",
   "execution_count": 61,
   "id": "0a254582",
   "metadata": {},
   "outputs": [
    {
     "data": {
      "text/plain": [
       "'Dog'"
      ]
     },
     "execution_count": 61,
     "metadata": {},
     "output_type": "execute_result"
    }
   ],
   "source": [
    "list1.pop(5) # this will pop out (remove from the list and return it) the element at the given index position, here at 5th index"
   ]
  },
  {
   "cell_type": "code",
   "execution_count": 62,
   "id": "1688ce6e",
   "metadata": {},
   "outputs": [
    {
     "data": {
      "text/plain": [
       "[20, 'Hi', 'apple', 'Cat', 'ink', 'jan', 'Feb', 'March']"
      ]
     },
     "execution_count": 62,
     "metadata": {},
     "output_type": "execute_result"
    }
   ],
   "source": [
    "list1 # so here after popping out the 5th index i.e. \"jan\", the updated list1 doesn't contain \"jan.\""
   ]
  },
  {
   "cell_type": "code",
   "execution_count": 63,
   "id": "9bbd60ad",
   "metadata": {},
   "outputs": [
    {
     "data": {
      "text/plain": [
       "[20, 'Hi', 'apple', 'Cat', 'jan', 'Feb', 'March']"
      ]
     },
     "execution_count": 63,
     "metadata": {},
     "output_type": "execute_result"
    }
   ],
   "source": [
    "list1.remove(\"ink\") # this function removes the given element ('ink') from the list1\n",
    "list1"
   ]
  },
  {
   "cell_type": "code",
   "execution_count": 64,
   "id": "4e942569",
   "metadata": {},
   "outputs": [],
   "source": [
    "list1.reverse() # this reverses the order of the list1"
   ]
  },
  {
   "cell_type": "code",
   "execution_count": 65,
   "id": "bab268ff",
   "metadata": {},
   "outputs": [
    {
     "data": {
      "text/plain": [
       "['March', 'Feb', 'jan', 'Cat', 'apple', 'Hi', 20]"
      ]
     },
     "execution_count": 65,
     "metadata": {},
     "output_type": "execute_result"
    }
   ],
   "source": [
    "list1 # here order is reversed"
   ]
  },
  {
   "cell_type": "code",
   "execution_count": 66,
   "id": "3ce719e1",
   "metadata": {},
   "outputs": [
    {
     "data": {
      "text/plain": [
       "['March', 'Feb', 'jan', 'Cat', 'apple', 'Hi', 20]"
      ]
     },
     "execution_count": 66,
     "metadata": {},
     "output_type": "execute_result"
    }
   ],
   "source": [
    "list1[:] # it gives us the elements of the list"
   ]
  },
  {
   "cell_type": "markdown",
   "id": "c9092dcf",
   "metadata": {},
   "source": [
    "## Dictionaries\n",
    "- an unordered collection of elements\n",
    "- mutable elements/ possible to change the elements\n",
    "- use curly brackets { }\n",
    "- key and value"
   ]
  },
  {
   "cell_type": "code",
   "execution_count": 126,
   "id": "e9d6e63f",
   "metadata": {},
   "outputs": [
    {
     "data": {
      "text/plain": [
       "{'samosa': 25, 'Pakora': 10}"
      ]
     },
     "execution_count": 126,
     "metadata": {},
     "output_type": "execute_result"
    }
   ],
   "source": [
    "food1={\"samosa\" : 25, \"Pakora\": 10}\n",
    "food1"
   ]
  },
  {
   "cell_type": "code",
   "execution_count": 68,
   "id": "2d47a74f",
   "metadata": {},
   "outputs": [
    {
     "data": {
      "text/plain": [
       "dict"
      ]
     },
     "execution_count": 68,
     "metadata": {},
     "output_type": "execute_result"
    }
   ],
   "source": [
    "type(food1)"
   ]
  },
  {
   "cell_type": "code",
   "execution_count": 69,
   "id": "98d7518c",
   "metadata": {},
   "outputs": [
    {
     "data": {
      "text/plain": [
       "dict_keys(['samosa', 'Pakora'])"
      ]
     },
     "execution_count": 69,
     "metadata": {},
     "output_type": "execute_result"
    }
   ],
   "source": [
    "food1.keys() # this will give us the keys"
   ]
  },
  {
   "cell_type": "code",
   "execution_count": 70,
   "id": "14e4fbb2",
   "metadata": {},
   "outputs": [
    {
     "data": {
      "text/plain": [
       "dict_values([25, 10])"
      ]
     },
     "execution_count": 70,
     "metadata": {},
     "output_type": "execute_result"
    }
   ],
   "source": [
    "food1.values() # this will give us the values"
   ]
  },
  {
   "cell_type": "code",
   "execution_count": 127,
   "id": "82d6550a",
   "metadata": {},
   "outputs": [
    {
     "data": {
      "text/plain": [
       "{'samosa': 25, 'Pakora': 10, 'Dahi Bhallay': 50}"
      ]
     },
     "execution_count": 127,
     "metadata": {},
     "output_type": "execute_result"
    }
   ],
   "source": [
    "# Addition of an element in the dictionary\n",
    "\n",
    "food1.update({\"Dahi Bhallay\": 50})  # the method to add an element to the dictionary along with key and value\n",
    "food1"
   ]
  },
  {
   "cell_type": "code",
   "execution_count": 128,
   "id": "81f8edc1",
   "metadata": {},
   "outputs": [
    {
     "data": {
      "text/plain": [
       "{'samosa': 25, 'Pakora': 10, 'Dahi Bhallay': 50, 'tikki': 10}"
      ]
     },
     "execution_count": 128,
     "metadata": {},
     "output_type": "execute_result"
    }
   ],
   "source": [
    "# Another method to add an element in the dictionary\n",
    "food1[\"tikki\"] = 10\n",
    "food1"
   ]
  },
  {
   "cell_type": "code",
   "execution_count": 129,
   "id": "b1223a50",
   "metadata": {
    "scrolled": true
   },
   "outputs": [
    {
     "data": {
      "text/plain": [
       "{'samosa': 25, 'Pakora': 50, 'Dahi Bhallay': 50, 'tikki': 10}"
      ]
     },
     "execution_count": 129,
     "metadata": {},
     "output_type": "execute_result"
    }
   ],
   "source": [
    "# now if we want to update the values of pakora from 10 to 20 then ??\n",
    "\n",
    "food1[\"Pakora\"] = 50 # this will update the value of Pakora\n",
    "food1"
   ]
  },
  {
   "cell_type": "code",
   "execution_count": 74,
   "id": "2ee5a7dc",
   "metadata": {},
   "outputs": [
    {
     "data": {
      "text/plain": [
       "4"
      ]
     },
     "execution_count": 74,
     "metadata": {},
     "output_type": "execute_result"
    }
   ],
   "source": [
    "len(food1) # this gives us the length of dictionary"
   ]
  },
  {
   "cell_type": "code",
   "execution_count": 75,
   "id": "f5bae8ff",
   "metadata": {},
   "outputs": [
    {
     "ename": "KeyError",
     "evalue": "0",
     "output_type": "error",
     "traceback": [
      "\u001b[1;31m---------------------------------------------------------------------------\u001b[0m",
      "\u001b[1;31mKeyError\u001b[0m                                  Traceback (most recent call last)",
      "\u001b[1;32m~\\AppData\\Local\\Temp/ipykernel_5704/2826606239.py\u001b[0m in \u001b[0;36m<module>\u001b[1;34m\u001b[0m\n\u001b[1;32m----> 1\u001b[1;33m \u001b[0mfood1\u001b[0m\u001b[1;33m[\u001b[0m\u001b[1;36m0\u001b[0m\u001b[1;33m]\u001b[0m \u001b[1;31m# this gives us an error as dictionary is an unordered collection of elements\u001b[0m\u001b[1;33m\u001b[0m\u001b[1;33m\u001b[0m\u001b[0m\n\u001b[0m",
      "\u001b[1;31mKeyError\u001b[0m: 0"
     ]
    }
   ],
   "source": [
    "food1[0] # this gives us an error as dictionary is an unordered collection of elements"
   ]
  },
  {
   "cell_type": "code",
   "execution_count": 76,
   "id": "e393f556",
   "metadata": {},
   "outputs": [
    {
     "data": {
      "text/plain": [
       "{'chocolate': 400, 'Lays': 100, 'dates': 60}"
      ]
     },
     "execution_count": 76,
     "metadata": {},
     "output_type": "execute_result"
    }
   ],
   "source": [
    "food2 = {\"chocolate\": 400, \"Lays\": 100, \"dates\": 60}\n",
    "food2"
   ]
  },
  {
   "cell_type": "code",
   "execution_count": 118,
   "id": "9a169a09",
   "metadata": {
    "scrolled": true
   },
   "outputs": [
    {
     "ename": "TypeError",
     "evalue": "unsupported operand type(s) for +: 'dict' and 'dict'",
     "output_type": "error",
     "traceback": [
      "\u001b[1;31m---------------------------------------------------------------------------\u001b[0m",
      "\u001b[1;31mTypeError\u001b[0m                                 Traceback (most recent call last)",
      "\u001b[1;32m~\\AppData\\Local\\Temp/ipykernel_5704/1561205768.py\u001b[0m in \u001b[0;36m<module>\u001b[1;34m\u001b[0m\n\u001b[0;32m      1\u001b[0m \u001b[1;31m# for concatenation\u001b[0m\u001b[1;33m\u001b[0m\u001b[1;33m\u001b[0m\u001b[0m\n\u001b[1;32m----> 2\u001b[1;33m \u001b[0mfood1\u001b[0m\u001b[1;33m+\u001b[0m\u001b[0mfood2\u001b[0m  \u001b[1;31m# this line will give error\u001b[0m\u001b[1;33m\u001b[0m\u001b[1;33m\u001b[0m\u001b[0m\n\u001b[0m",
      "\u001b[1;31mTypeError\u001b[0m: unsupported operand type(s) for +: 'dict' and 'dict'"
     ]
    }
   ],
   "source": [
    "# for concatenation\n",
    "food1+food2  # this line will give error"
   ]
  },
  {
   "cell_type": "code",
   "execution_count": 130,
   "id": "3c3aaa91",
   "metadata": {
    "scrolled": false
   },
   "outputs": [
    {
     "data": {
      "text/plain": [
       "{'samosa': 25,\n",
       " 'Pakora': 50,\n",
       " 'Dahi Bhallay': 50,\n",
       " 'tikki': 10,\n",
       " 'chocolate': 400,\n",
       " 'Lays': 100,\n",
       " 'dates': 60}"
      ]
     },
     "execution_count": 130,
     "metadata": {},
     "output_type": "execute_result"
    }
   ],
   "source": [
    "food1.update(food2) # right method for concatenation for dictionaries\n",
    "food1"
   ]
  },
  {
   "cell_type": "code",
   "execution_count": 112,
   "id": "0e021bcd",
   "metadata": {},
   "outputs": [
    {
     "data": {
      "text/plain": [
       "{'lawn': None, 'Khaddar': None, 'cotton': None}"
      ]
     },
     "execution_count": 112,
     "metadata": {},
     "output_type": "execute_result"
    }
   ],
   "source": [
    "cloth1= {'lawn', 'cotton', 'Khaddar'} # create a sequence\n",
    "dict.fromkeys(cloth1) # this dictionary takes keys from the cloth1 sequence"
   ]
  },
  {
   "cell_type": "code",
   "execution_count": 113,
   "id": "8045430c",
   "metadata": {},
   "outputs": [
    {
     "name": "stdout",
     "output_type": "stream",
     "text": [
      "Clothes are of  the following price {'lawn': [1000, 2000], 'Khaddar': [1000, 2000], 'cotton': [1000, 2000]}\n",
      "Clothes are of  the following price {'lawn': [1000, 2000, 4000], 'Khaddar': [1000, 2000, 4000], 'cotton': [1000, 2000, 4000]}\n"
     ]
    }
   ],
   "source": [
    "value = [1000, 2000]\n",
    "cloth1 = dict.fromkeys(cloth1, value) # now it will assign value to each key of the dictionary by getting it from list(value)\n",
    "print(\"Clothes are of  the following price\", cloth1)\n",
    "\n",
    "value.append(4000) # here we append one more element in the value list\n",
    "print(\"Clothes are of  the following price\", cloth1) # this dictionary will modify accordingly"
   ]
  },
  {
   "cell_type": "code",
   "execution_count": 133,
   "id": "7b9d4781",
   "metadata": {
    "scrolled": true
   },
   "outputs": [
    {
     "data": {
      "text/plain": [
       "60"
      ]
     },
     "execution_count": 133,
     "metadata": {},
     "output_type": "execute_result"
    }
   ],
   "source": [
    "food1.get(\"dates\") # this returns the value of the key \"dates\""
   ]
  },
  {
   "cell_type": "code",
   "execution_count": 131,
   "id": "b0cab818",
   "metadata": {
    "scrolled": true
   },
   "outputs": [
    {
     "data": {
      "text/plain": [
       "dict_items([('samosa', 25), ('Pakora', 50), ('Dahi Bhallay', 50), ('tikki', 10), ('chocolate', 400), ('Lays', 100), ('dates', 60)])"
      ]
     },
     "execution_count": 131,
     "metadata": {},
     "output_type": "execute_result"
    }
   ],
   "source": [
    "food1.items() # prints all the elements in tuple pairs"
   ]
  },
  {
   "cell_type": "code",
   "execution_count": 132,
   "id": "e4195602",
   "metadata": {
    "scrolled": true
   },
   "outputs": [
    {
     "data": {
      "text/plain": [
       "{'Pakora': 50,\n",
       " 'Dahi Bhallay': 50,\n",
       " 'tikki': 10,\n",
       " 'chocolate': 400,\n",
       " 'Lays': 100,\n",
       " 'dates': 60}"
      ]
     },
     "execution_count": 132,
     "metadata": {},
     "output_type": "execute_result"
    }
   ],
   "source": [
    "food1.pop('samosa') # it pops out the samosa and its value from the dictionary\n",
    "food1"
   ]
  },
  {
   "cell_type": "code",
   "execution_count": 134,
   "id": "2a423f33",
   "metadata": {
    "scrolled": false
   },
   "outputs": [
    {
     "data": {
      "text/plain": [
       "'Not Present'"
      ]
     },
     "execution_count": 134,
     "metadata": {},
     "output_type": "execute_result"
    }
   ],
   "source": [
    "food1.pop('samosa', 'Not Present') # it contains two arguments, if the given element 'samosa' is not present in the dictionary,\n",
    "                                    #it should return 'Not Present'"
   ]
  },
  {
   "cell_type": "code",
   "execution_count": 135,
   "id": "a8fe4a7b",
   "metadata": {},
   "outputs": [
    {
     "name": "stdout",
     "output_type": "stream",
     "text": [
      "None\n"
     ]
    }
   ],
   "source": [
    "test= food1.get('samosa')\n",
    "print (test)"
   ]
  },
  {
   "cell_type": "code",
   "execution_count": 136,
   "id": "341896d6",
   "metadata": {
    "scrolled": true
   },
   "outputs": [
    {
     "data": {
      "text/plain": [
       "('dates', 60)"
      ]
     },
     "execution_count": 136,
     "metadata": {},
     "output_type": "execute_result"
    }
   ],
   "source": [
    "food1.popitem() # it follows the Last In First Out Formula. and removes the last added element of dictionary"
   ]
  },
  {
   "cell_type": "code",
   "execution_count": 137,
   "id": "7b4eccc0",
   "metadata": {
    "scrolled": false
   },
   "outputs": [
    {
     "data": {
      "text/plain": [
       "{'Pakora': 50, 'Dahi Bhallay': 50, 'tikki': 10, 'chocolate': 400, 'Lays': 100}"
      ]
     },
     "execution_count": 137,
     "metadata": {},
     "output_type": "execute_result"
    }
   ],
   "source": [
    "food1"
   ]
  },
  {
   "cell_type": "code",
   "execution_count": 138,
   "id": "9cd16735",
   "metadata": {},
   "outputs": [
    {
     "data": {
      "text/plain": [
       "100"
      ]
     },
     "execution_count": 138,
     "metadata": {},
     "output_type": "execute_result"
    }
   ],
   "source": [
    "food1.setdefault('Lays', 'No such item included') "
   ]
  },
  {
   "cell_type": "code",
   "execution_count": 139,
   "id": "8864229a",
   "metadata": {},
   "outputs": [
    {
     "data": {
      "text/plain": [
       "50"
      ]
     },
     "execution_count": 139,
     "metadata": {},
     "output_type": "execute_result"
    }
   ],
   "source": [
    "food1.setdefault('samosa', 50) # it contains two arguments, if the given element 'samosa' is not present\n",
    "                                                    #in the dictionary,it should return 'Not Present"
   ]
  },
  {
   "cell_type": "markdown",
   "id": "9054249f",
   "metadata": {},
   "source": [
    "## Sets\n",
    "- Unordered and unindexed\n",
    "- use {   }\n",
    "- no duplicates"
   ]
  },
  {
   "cell_type": "code",
   "execution_count": 86,
   "id": "082bad2e",
   "metadata": {},
   "outputs": [
    {
     "data": {
      "text/plain": [
       "{1, 2, 6, 'Multan', 'Urdu'}"
      ]
     },
     "execution_count": 86,
     "metadata": {},
     "output_type": "execute_result"
    }
   ],
   "source": [
    "s1={1, 2, 6, \"Multan\", \"Urdu\", True, 1} # does not print boolean variables, also duplicates will print only once\n",
    "s1"
   ]
  },
  {
   "cell_type": "code",
   "execution_count": 87,
   "id": "ed564b8e",
   "metadata": {},
   "outputs": [
    {
     "data": {
      "text/plain": [
       "set"
      ]
     },
     "execution_count": 87,
     "metadata": {},
     "output_type": "execute_result"
    }
   ],
   "source": [
    "type(s1)"
   ]
  },
  {
   "cell_type": "code",
   "execution_count": 88,
   "id": "ec66e527",
   "metadata": {},
   "outputs": [
    {
     "data": {
      "text/plain": [
       "5"
      ]
     },
     "execution_count": 88,
     "metadata": {},
     "output_type": "execute_result"
    }
   ],
   "source": [
    "len(s1)"
   ]
  },
  {
   "cell_type": "code",
   "execution_count": 89,
   "id": "9897b9a8",
   "metadata": {},
   "outputs": [
    {
     "data": {
      "text/plain": [
       "{1, 2, 6, 'Haider', 'Multan', 'Urdu'}"
      ]
     },
     "execution_count": 89,
     "metadata": {},
     "output_type": "execute_result"
    }
   ],
   "source": [
    "s1.add(\"Haider\") # it adds the element in the set\n",
    "s1"
   ]
  },
  {
   "cell_type": "code",
   "execution_count": 90,
   "id": "8ba4e018",
   "metadata": {},
   "outputs": [
    {
     "data": {
      "text/plain": [
       "{1, 2, 6, 'Haider', 'Multan', 'Urdu'}"
      ]
     },
     "execution_count": 90,
     "metadata": {},
     "output_type": "execute_result"
    }
   ],
   "source": [
    "s1.add(1) # since it is already in the set, therefore it will not be printed again\n",
    "s1"
   ]
  },
  {
   "cell_type": "code",
   "execution_count": 91,
   "id": "605374dc",
   "metadata": {},
   "outputs": [
    {
     "data": {
      "text/plain": [
       "{1, 2, 6, 'Haider', 'Multan', 'Urdu'}"
      ]
     },
     "execution_count": 91,
     "metadata": {},
     "output_type": "execute_result"
    }
   ],
   "source": [
    "copy_s1= s1.copy() # it creates a copy of s1\n",
    "copy_s1"
   ]
  },
  {
   "cell_type": "code",
   "execution_count": 92,
   "id": "cb2f1641",
   "metadata": {},
   "outputs": [
    {
     "data": {
      "text/plain": [
       "{1, 2, 6, 'Ali', 'Haider', 'Multan', 'Urdu'}"
      ]
     },
     "execution_count": 92,
     "metadata": {},
     "output_type": "execute_result"
    }
   ],
   "source": [
    "copy_s1.add(\"Ali\") # we add an element in the copy\n",
    "copy_s1"
   ]
  },
  {
   "cell_type": "code",
   "execution_count": 93,
   "id": "097f7667",
   "metadata": {},
   "outputs": [
    {
     "data": {
      "text/plain": [
       "{1, 2, 6, 'Haider', 'Multan', 'Urdu'}"
      ]
     },
     "execution_count": 93,
     "metadata": {},
     "output_type": "execute_result"
    }
   ],
   "source": [
    "s1 # but original one remain unchanged"
   ]
  },
  {
   "cell_type": "code",
   "execution_count": 94,
   "id": "68914d3f",
   "metadata": {},
   "outputs": [
    {
     "data": {
      "text/plain": [
       "set()"
      ]
     },
     "execution_count": 94,
     "metadata": {},
     "output_type": "execute_result"
    }
   ],
   "source": [
    "s1.difference(copy_s1) # this gives us the elements which are in s1 and not in copy_s1"
   ]
  },
  {
   "cell_type": "code",
   "execution_count": 95,
   "id": "62dc6009",
   "metadata": {},
   "outputs": [
    {
     "data": {
      "text/plain": [
       "{'Ali'}"
      ]
     },
     "execution_count": 95,
     "metadata": {},
     "output_type": "execute_result"
    }
   ],
   "source": [
    "copy_s1.difference(s1) # this gives us the elements which are in copy_s1  and not in s1."
   ]
  },
  {
   "cell_type": "code",
   "execution_count": 96,
   "id": "3e343ad0",
   "metadata": {},
   "outputs": [
    {
     "data": {
      "text/plain": [
       "{'Ali'}"
      ]
     },
     "execution_count": 96,
     "metadata": {},
     "output_type": "execute_result"
    }
   ],
   "source": [
    "copy_s1.difference_update(s1) # this will update the copy_s1 with value of (copy_s1 - s1)\n",
    "copy_s1 # now copy_s1 will be only {'Ali'} "
   ]
  },
  {
   "cell_type": "code",
   "execution_count": 97,
   "id": "e735fef7",
   "metadata": {},
   "outputs": [
    {
     "data": {
      "text/plain": [
       "{2, 6, 'Haider', 'Multan', 'Urdu'}"
      ]
     },
     "execution_count": 97,
     "metadata": {},
     "output_type": "execute_result"
    }
   ],
   "source": [
    "s1.discard(1) # it will discard 1 from s1\n",
    "s1"
   ]
  },
  {
   "cell_type": "code",
   "execution_count": 98,
   "id": "f8e49f73",
   "metadata": {},
   "outputs": [
    {
     "data": {
      "text/plain": [
       "{2, 6, 7}"
      ]
     },
     "execution_count": 98,
     "metadata": {},
     "output_type": "execute_result"
    }
   ],
   "source": [
    "s2= {2,6,7}\n",
    "s2"
   ]
  },
  {
   "cell_type": "code",
   "execution_count": 99,
   "id": "1e5fbe22",
   "metadata": {},
   "outputs": [
    {
     "data": {
      "text/plain": [
       "{2, 6}"
      ]
     },
     "execution_count": 99,
     "metadata": {},
     "output_type": "execute_result"
    }
   ],
   "source": [
    "s1.intersection(s2) # this gives us intersection of s1 and s2"
   ]
  },
  {
   "cell_type": "code",
   "execution_count": 100,
   "id": "cbb7f288",
   "metadata": {},
   "outputs": [],
   "source": [
    "s1.intersection_update(s2) # this will update the s1 with the intersection of (s1 and s2)"
   ]
  },
  {
   "cell_type": "code",
   "execution_count": 101,
   "id": "be14bac6",
   "metadata": {},
   "outputs": [
    {
     "data": {
      "text/plain": [
       "{2, 6}"
      ]
     },
     "execution_count": 101,
     "metadata": {},
     "output_type": "execute_result"
    }
   ],
   "source": [
    "s1 # it gives us the updated value of s1"
   ]
  },
  {
   "cell_type": "code",
   "execution_count": 102,
   "id": "eecb4800",
   "metadata": {},
   "outputs": [
    {
     "data": {
      "text/plain": [
       "False"
      ]
     },
     "execution_count": 102,
     "metadata": {},
     "output_type": "execute_result"
    }
   ],
   "source": [
    "s1.isdisjoint(s2) # it tells us if s1 and s2 are disjoints (no common element)"
   ]
  },
  {
   "cell_type": "code",
   "execution_count": 103,
   "id": "54164c3f",
   "metadata": {},
   "outputs": [
    {
     "data": {
      "text/plain": [
       "{1, 3, 5}"
      ]
     },
     "execution_count": 103,
     "metadata": {},
     "output_type": "execute_result"
    }
   ],
   "source": [
    "s1={1,3,5}\n",
    "s1"
   ]
  },
  {
   "cell_type": "code",
   "execution_count": 104,
   "id": "44e8e954",
   "metadata": {},
   "outputs": [
    {
     "data": {
      "text/plain": [
       "{1, 2, 3, 5, 6, 7}"
      ]
     },
     "execution_count": 104,
     "metadata": {},
     "output_type": "execute_result"
    }
   ],
   "source": [
    "s1.update(s2) # concatenate s1 with s2\n",
    "s1"
   ]
  },
  {
   "cell_type": "code",
   "execution_count": 105,
   "id": "09cec7b1",
   "metadata": {},
   "outputs": [
    {
     "data": {
      "text/plain": [
       "False"
      ]
     },
     "execution_count": 105,
     "metadata": {},
     "output_type": "execute_result"
    }
   ],
   "source": [
    "s1.issubset(s2) # check if s1 is subset of s2"
   ]
  },
  {
   "cell_type": "code",
   "execution_count": 106,
   "id": "9affd115",
   "metadata": {},
   "outputs": [
    {
     "data": {
      "text/plain": [
       "True"
      ]
     },
     "execution_count": 106,
     "metadata": {},
     "output_type": "execute_result"
    }
   ],
   "source": [
    "s1.issuperset(s2) # check if s1 is superset of s2"
   ]
  },
  {
   "cell_type": "code",
   "execution_count": 107,
   "id": "3b39b244",
   "metadata": {},
   "outputs": [
    {
     "data": {
      "text/plain": [
       "{2, 3, 5, 6, 7}"
      ]
     },
     "execution_count": 107,
     "metadata": {},
     "output_type": "execute_result"
    }
   ],
   "source": [
    "s1.pop() # it randomly pops/remove a element and updates s1 with remaining elements\n",
    "s1"
   ]
  },
  {
   "cell_type": "code",
   "execution_count": 108,
   "id": "102eb094",
   "metadata": {
    "scrolled": true
   },
   "outputs": [
    {
     "data": {
      "text/plain": [
       "{2, 3, 5, 6, 7}"
      ]
     },
     "execution_count": 108,
     "metadata": {},
     "output_type": "execute_result"
    }
   ],
   "source": [
    "s1.union(s2) # takes union of s1 and s2"
   ]
  },
  {
   "cell_type": "code",
   "execution_count": 109,
   "id": "6d489f44",
   "metadata": {},
   "outputs": [
    {
     "data": {
      "text/plain": [
       "{3, 5}"
      ]
     },
     "execution_count": 109,
     "metadata": {},
     "output_type": "execute_result"
    }
   ],
   "source": [
    "s1.symmetric_difference(s2) # it gives the values other than the intersection of s1 and s2"
   ]
  },
  {
   "cell_type": "code",
   "execution_count": 110,
   "id": "fc4d27c8",
   "metadata": {},
   "outputs": [
    {
     "data": {
      "text/plain": [
       "{2, 3, 5, 7}"
      ]
     },
     "execution_count": 110,
     "metadata": {},
     "output_type": "execute_result"
    }
   ],
   "source": [
    "s1.remove(6) # it removes 6 from s1\n",
    "s1"
   ]
  },
  {
   "cell_type": "code",
   "execution_count": null,
   "id": "20c267bf",
   "metadata": {},
   "outputs": [],
   "source": []
  }
 ],
 "metadata": {
  "kernelspec": {
   "display_name": "Python 3 (ipykernel)",
   "language": "python",
   "name": "python3"
  },
  "language_info": {
   "codemirror_mode": {
    "name": "ipython",
    "version": 3
   },
   "file_extension": ".py",
   "mimetype": "text/x-python",
   "name": "python",
   "nbconvert_exporter": "python",
   "pygments_lexer": "ipython3",
   "version": "3.9.7"
  }
 },
 "nbformat": 4,
 "nbformat_minor": 5
}
