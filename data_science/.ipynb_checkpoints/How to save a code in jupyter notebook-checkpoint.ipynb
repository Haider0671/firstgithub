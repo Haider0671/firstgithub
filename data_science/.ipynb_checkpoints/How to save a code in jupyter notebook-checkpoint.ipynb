{
 "cells": [
  {
   "cell_type": "markdown",
   "id": "eb3dfc15",
   "metadata": {},
   "source": [
    "# Learning Python in Jupyter Notebook\n",
    "\n",
    "## 01_First Program"
   ]
  },
  {
   "cell_type": "code",
   "execution_count": 1,
   "id": "3b4a13c7",
   "metadata": {},
   "outputs": [
    {
     "name": "stdout",
     "output_type": "stream",
     "text": [
      "Hello\n",
      "5\n",
      "welldone\n",
      "dil dil PaKiStAn\n"
     ]
    }
   ],
   "source": [
    "print ('Hello')\n",
    "print (2+3)\n",
    "print ('welldone')\n",
    "print ('dil dil PaKiStAn')"
   ]
  },
  {
   "cell_type": "markdown",
   "id": "86407733",
   "metadata": {},
   "source": [
    "## 02_Operators"
   ]
  },
  {
   "cell_type": "code",
   "execution_count": 2,
   "id": "ac32abd3",
   "metadata": {},
   "outputs": [
    {
     "name": "stdout",
     "output_type": "stream",
     "text": [
      "5\n",
      "5\n",
      "1\n",
      "9\n",
      "6\n",
      "4.0\n",
      "4\n",
      "1\n",
      "2.5\n"
     ]
    }
   ],
   "source": [
    "print (2+3) #Add\n",
    "print (2 + 3) #No effect because of spacing between operators\n",
    "print (3-2) #Subtract\n",
    "print (3**2) # Exponent\n",
    "print (3*2) #Multiply\n",
    "print (8/2) #gives float value\n",
    "print (8//2) #Gives Integer Value\n",
    "print (9%2) #Gives Remainder\n",
    "\n",
    "print (3**2/6+3-2) "
   ]
  },
  {
   "cell_type": "markdown",
   "id": "38193adb",
   "metadata": {},
   "source": [
    "*Follows PEMDAS (Parantheses,Exponents,Multiply,Divide,Add,Subtract) Left to Right*"
   ]
  },
  {
   "cell_type": "markdown",
   "id": "f6cfbd73",
   "metadata": {},
   "source": [
    "# 03_Strings"
   ]
  },
  {
   "cell_type": "code",
   "execution_count": 3,
   "id": "80cec60e",
   "metadata": {},
   "outputs": [
    {
     "name": "stdout",
     "output_type": "stream",
     "text": [
      "welldone\n",
      "dil dil PaKiStAn\n",
      "Testing Single Comma\n",
      "Testing Double Comma\n",
      "Testing Tripple Comma\n",
      "what's up    ?\n"
     ]
    }
   ],
   "source": [
    "print ('welldone')\n",
    "print ('dil dil PaKiStAn')\n",
    "\n",
    "print ('Testing Single Comma')\n",
    "print (\"Testing Double Comma\")\n",
    "print ('''Testing Tripple Comma''')\n",
    "\n",
    "print (\"what's up    ?\")"
   ]
  },
  {
   "cell_type": "markdown",
   "id": "0013e122",
   "metadata": {},
   "source": [
    "# 04_Comments"
   ]
  },
  {
   "cell_type": "code",
   "execution_count": 4,
   "id": "16779d75",
   "metadata": {},
   "outputs": [
    {
     "name": "stdout",
     "output_type": "stream",
     "text": [
      "Hello Haider\n"
     ]
    }
   ],
   "source": [
    "print('Hello Haider')"
   ]
  },
  {
   "cell_type": "markdown",
   "id": "261a3a6f",
   "metadata": {},
   "source": [
    "* #print ('Testing Single Comma') This is a comment line by using (ctrl + /)*"
   ]
  },
  {
   "cell_type": "markdown",
   "id": "e5829884",
   "metadata": {},
   "source": [
    "# 05_Variables"
   ]
  },
  {
   "cell_type": "code",
   "execution_count": 5,
   "id": "5af898ea",
   "metadata": {},
   "outputs": [
    {
     "name": "stdout",
     "output_type": "stream",
     "text": [
      "2\n",
      "<class 'int'>\n",
      "Bananas\n",
      "<class 'str'>\n",
      "Bananas mangoes\n"
     ]
    },
    {
     "ename": "NameError",
     "evalue": "name 'x' is not defined",
     "output_type": "error",
     "traceback": [
      "\u001b[1;31m---------------------------------------------------------------------------\u001b[0m",
      "\u001b[1;31mNameError\u001b[0m                                 Traceback (most recent call last)",
      "\u001b[1;32m~\\AppData\\Local\\Temp/ipykernel_11364/31255471.py\u001b[0m in \u001b[0;36m<module>\u001b[1;34m\u001b[0m\n\u001b[0;32m     16\u001b[0m \u001b[1;33m\u001b[0m\u001b[0m\n\u001b[0;32m     17\u001b[0m \u001b[1;32mdel\u001b[0m \u001b[0mx\u001b[0m \u001b[1;31m#this deletes the variable and it can't be called again\u001b[0m\u001b[1;33m\u001b[0m\u001b[1;33m\u001b[0m\u001b[0m\n\u001b[1;32m---> 18\u001b[1;33m \u001b[0mprint\u001b[0m \u001b[1;33m(\u001b[0m\u001b[0mx\u001b[0m\u001b[1;33m)\u001b[0m \u001b[1;31m# now this will give an error as x variable has already been deleted\u001b[0m\u001b[1;33m\u001b[0m\u001b[1;33m\u001b[0m\u001b[0m\n\u001b[0m",
      "\u001b[1;31mNameError\u001b[0m: name 'x' is not defined"
     ]
    }
   ],
   "source": [
    "x=2 # x variable is defined and given a value of 2\n",
    "\n",
    "print (x)\n",
    "\n",
    "type(x)   # this is used to know the type of variable\n",
    "\n",
    "print(type(x)) # this gives us type of variable whether it is a integer or string\n",
    "\n",
    "x='Bananas' # value of x is updated and changed to a string\n",
    "\n",
    "print(x) # now this function will give new updated value\n",
    "print(type(x)) # now this function will give new updated type of variable\n",
    "\n",
    "x= x + ' mangoes' #this concatenate the new value with previous value of x\n",
    "print (x)\n",
    "\n",
    "del x #this deletes the variable and it can't be called again\n",
    "print (x) # now this will give an error as x variable has already been deleted"
   ]
  },
  {
   "cell_type": "markdown",
   "id": "97a3ec08",
   "metadata": {},
   "source": [
    "# 06_input_variables"
   ]
  },
  {
   "cell_type": "code",
   "execution_count": 6,
   "id": "29436d66",
   "metadata": {},
   "outputs": [
    {
     "name": "stdout",
     "output_type": "stream",
     "text": [
      "what is your name? Haider\n",
      "Haider\n",
      "what is your name? Haider\n",
      "Hello! Haider\n",
      "what is your name? Haider\n",
      "How old are you? 28\n",
      "Hello! Haider , you are so young\n"
     ]
    }
   ],
   "source": [
    "#input variable simple\n",
    "\n",
    "name=input(\"what is your name? \")  #This will ask you your name\n",
    "print (name) #this will print out the name which has been put into the terminal\n",
    "\n",
    "\n",
    "# 2nd stage input variable\n",
    "\n",
    "name=input(\"what is your name? \")  #This will ask you your name\n",
    "greetings= \"Hello!\"\n",
    "print (greetings, name)\n",
    "\n",
    "\n",
    "#3rd stage input variable\n",
    "\n",
    "name=input(\"what is your name? \")  #This will ask you your name\n",
    "age=input(\"How old are you? \") #This will ask you your age\n",
    "\n",
    "print (greetings, name,\", you are so young\")"
   ]
  },
  {
   "cell_type": "markdown",
   "id": "48d0c127",
   "metadata": {},
   "source": [
    "# 07_Conditional_Operators"
   ]
  },
  {
   "cell_type": "code",
   "execution_count": 7,
   "id": "3a9e6f71",
   "metadata": {},
   "outputs": [
    {
     "name": "stdout",
     "output_type": "stream",
     "text": [
      "True\n",
      "True\n",
      "True\n",
      "True\n",
      "True\n",
      "True\n",
      "False\n",
      "what is the age of the student? 5\n",
      "False\n",
      "<class 'str'>\n",
      "True\n"
     ]
    }
   ],
   "source": [
    "print (3<5)\n",
    "print (3==3)\n",
    "print (4!=3)\n",
    "print (4==4)\n",
    "print (5>=3) # this is true in logical language but is not true in mathematical language\n",
    "print (3<=6) # this is true in logical language but is not true in mathematical language\n",
    "\n",
    "#application of logical operator\n",
    "\n",
    "# we want to check if a student is elgible for admission in school or not by checking his age\n",
    "\n",
    "age_at_school=5\n",
    "student_age=3\n",
    "print(age_at_school==student_age)\n",
    "\n",
    "# use combination of input function and logical operators\n",
    "\n",
    "age_at_school=5\n",
    "student_age=input(\"what is the age of the student? \")\n",
    "\n",
    "print(age_at_school==student_age) #even if we give 5 as input age it will give us false\n",
    "print(type(student_age)) # because type of student_age variable is string, therefore, first we have to change it to integer than it can be compared with age_at_school\n",
    "student_age=int(student_age) # here we change the variable value to integer\n",
    "print(age_at_school==student_age) #now it gives us true "
   ]
  },
  {
   "cell_type": "markdown",
   "id": "2e8c61b7",
   "metadata": {},
   "source": [
    "# 08_Type_conversion"
   ]
  },
  {
   "cell_type": "code",
   "execution_count": 8,
   "id": "46e48a72",
   "metadata": {},
   "outputs": [
    {
     "name": "stdout",
     "output_type": "stream",
     "text": [
      "5 <class 'int'>\n",
      "5.6 <class 'float'>\n",
      "Haider <class 'str'>\n",
      "28.0 <class 'float'>\n",
      "28.0 <class 'int'>\n"
     ]
    }
   ],
   "source": [
    "x=5\n",
    "y=5.6\n",
    "z=\"Haider\"\n",
    "\n",
    "print(x, type(x))\n",
    "print(y, type(y))\n",
    "print(z, type(z))\n",
    "\n",
    "# what happens if an integer is added, multiplied or divided by a float, --------- We get a float by implicit conversion\n",
    "r= x*y\n",
    "\n",
    "print (r, type(r)) # here you get a float, this is called implicit conversion\n",
    "\n",
    "# how to convert from one type to another type explicitly\n",
    "\n",
    "print (r, type(int (r))) # now it will give us an integer because we have introduced an \"int\" in the type \n",
    "                            #of the arithmatic expression"
   ]
  },
  {
   "cell_type": "markdown",
   "id": "eef4f746",
   "metadata": {},
   "source": [
    "# 09_if_else_elif"
   ]
  },
  {
   "cell_type": "code",
   "execution_count": 12,
   "id": "edde0de1",
   "metadata": {},
   "outputs": [
    {
     "name": "stdout",
     "output_type": "stream",
     "text": [
      "what is the age of the student? 5\n",
      "Yes, he can join the school in Kinder Garten\n"
     ]
    }
   ],
   "source": [
    "student_age=input(\"what is the age of the student? \")\n",
    "student_age=int(student_age)\n",
    "\n",
    "age_at_school=5\n",
    "\n",
    "if student_age==age_at_school:\n",
    "    print(\"Yes, he can join the school in Kinder Garten\")\n",
    "elif student_age<=age_at_school:\n",
    "    print(\"He is too young for school\")\n",
    "elif 18>student_age>=age_at_school:\n",
    "    print(\"He should join higher class\")\n",
    "else:\n",
    "    print(\"Sorry! he is too old for the school\")"
   ]
  },
  {
   "cell_type": "markdown",
   "id": "620793dc",
   "metadata": {},
   "source": [
    "# 10_Functions"
   ]
  },
  {
   "cell_type": "code",
   "execution_count": 13,
   "id": "f205186f",
   "metadata": {},
   "outputs": [
    {
     "name": "stdout",
     "output_type": "stream",
     "text": [
      "We are learning python and it is a very interesting language\n",
      "We are learning python and it is a very interesting language\n",
      "We are learning python and it is a very interesting language\n",
      "We are learning python and it is a very interesting language\n",
      "We are learning python and it is a very interesting language\n",
      "We are learning python and it is a very interesting language\n",
      "we are defining a new function\n",
      "we are defining a new function\n",
      "we are defining a new function\n",
      "Hello, this is the 3rd method to define a new function\n",
      "Hello, this is the 3rd method to define a new function\n",
      "Hello, this is the 3rd method to define a new function\n",
      "what is your current age? 18\n",
      "After 20 years you will be 38 years old\n",
      "After 20 years you will be 48 years old\n",
      "what is the baby's age? 6\n",
      "Sorry, we can't help you as it is only a kinder garten school\n"
     ]
    }
   ],
   "source": [
    "print(\"We are learning python and it is a very interesting language\")\n",
    "print(\"We are learning python and it is a very interesting language\")\n",
    "print(\"We are learning python and it is a very interesting language\")\n",
    "\n",
    "# Now we can do the same thing by defining a function.\n",
    "\n",
    "# 1st method\n",
    "\n",
    "def print_python_learning():  #def is used to define a new function\n",
    "    print(\"We are learning python and it is a very interesting language\")\n",
    "    print(\"We are learning python and it is a very interesting language\")\n",
    "    print(\"We are learning python and it is a very interesting language\")\n",
    "\n",
    "print_python_learning()\n",
    "\n",
    "# 2 method\n",
    "\n",
    "def print_python_learning(): \n",
    "    text= \"we are defining a new function\"\n",
    "    print(text)\n",
    "    print(text)\n",
    "    print(text)\n",
    "\n",
    "print_python_learning()\n",
    "\n",
    "# 3 method\n",
    "\n",
    "def print_python_learning(text): \n",
    "    # text= \"we are defining a new function\"\n",
    "    print(text)\n",
    "    print(text)\n",
    "    print(text)\n",
    "\n",
    "print_python_learning(\"Hello, this is the 3rd method to define a new function\")\n",
    "\n",
    "#4 Now we will make an age calculator\n",
    "\n",
    "def age_calculator():\n",
    "    \n",
    "    age=input(\"what is your current age? \")\n",
    "\n",
    "    age=int(age)\n",
    "\n",
    "    age=age+20\n",
    "\n",
    "    print(\"After 20 years you will be\", age ,\"years old\")\n",
    "\n",
    "age_calculator()\n",
    "\n",
    "\n",
    "\n",
    "def age_calculator(age):\n",
    "    \n",
    "    age=age+20    \n",
    "\n",
    "    print(\"After 20 years you will be\", age ,\"years old\")\n",
    "\n",
    "age_calculator(28)\n",
    "\n",
    "# Now we define a new function to check if the baby is able to join the school or not?\n",
    "\n",
    "def school_join():\n",
    "\n",
    "    baby_age=input(\"what is the baby's age? \")\n",
    "    baby_age=int(baby_age)\n",
    "\n",
    "    if baby_age==5:\n",
    "        print(\"yes, you can join the school\")\n",
    "    elif baby_age<5:\n",
    "        print(\"No, he is too young for the school\")\n",
    "    else:\n",
    "        print(\"Sorry, we can't help you as it is only a kinder garten school\")\n",
    "\n",
    "\n",
    "school_join()"
   ]
  },
  {
   "cell_type": "markdown",
   "id": "f38e5e89",
   "metadata": {},
   "source": [
    "# 11_loops"
   ]
  },
  {
   "cell_type": "code",
   "execution_count": 25,
   "id": "ea616523",
   "metadata": {},
   "outputs": [
    {
     "name": "stdout",
     "output_type": "stream",
     "text": [
      "671\n",
      "672\n",
      "673\n",
      "674\n",
      "5\n",
      "6\n",
      "7\n",
      "8\n",
      "9\n",
      "10\n",
      "11\n",
      "12\n",
      "13\n",
      "14\n",
      "Jan\n",
      "Feb\n",
      "Mar\n",
      "Mon\n",
      "Wed\n",
      "Thu\n",
      "Fri\n",
      "Sat\n",
      "Sun\n"
     ]
    }
   ],
   "source": [
    "#while loop, it keeps on going until a condition stays true\n",
    "\n",
    "x=671\n",
    "\n",
    "while (x<675):\n",
    "    print(x)\n",
    "    x=x+1  # if we donot put this line, the loop will keep on executing indefinitely\n",
    "\n",
    "# For loop\n",
    "\n",
    "for x in range(5,15):\n",
    "    print (x)\n",
    "\n",
    "\n",
    "# arrays\n",
    "\n",
    "months=[\"Jan\", \"Feb\", \"Mar\", \"Apr\", \"May\", \"Jun\"]\n",
    "\n",
    "for i in months:\n",
    "    if (i==\"Apr\"): \n",
    "        break # it will break the loop when April comes in the loop\n",
    "    print(i)\n",
    "\n",
    "days=[\"Mon\", \"Tue\", \"Wed\", \"Thu\", \"Fri\", \"Sat\", \"Sun\"]\n",
    "\n",
    "for i in days:\n",
    "    if (i==\"Tue\"): \n",
    "        continue #skips \"May\" and the loop continues\n",
    "    print(i)"
   ]
  },
  {
   "cell_type": "markdown",
   "id": "3bc9959d",
   "metadata": {},
   "source": [
    "# 12_libraries"
   ]
  },
  {
   "cell_type": "code",
   "execution_count": 26,
   "id": "d9305064",
   "metadata": {},
   "outputs": [
    {
     "name": "stdout",
     "output_type": "stream",
     "text": [
      "the value of pi is  3.141592653589793\n",
      "1.0\n",
      "5.5\n"
     ]
    }
   ],
   "source": [
    "#we want to know the value of pi or use any other mathatmatical function, for that we would have to import math library\n",
    "\n",
    "import math\n",
    "\n",
    "print(\"the value of pi is \", math.pi) # this gives us the value of pi\n",
    "\n",
    "print(math.sin((math.pi/2))) # this gives us the value of sin (pi/2) or 90 degree\n",
    "\n",
    "# similarly we can import statistics library\n",
    "\n",
    "import statistics\n",
    "\n",
    "x=[1,2,3,4,5,6,7,8,9,10]\n",
    "\n",
    "print(statistics.mean(x)) # it gives us the mean value of array x"
   ]
  },
  {
   "cell_type": "markdown",
   "id": "77919969",
   "metadata": {},
   "source": [
    "# 13_troubleshooting"
   ]
  },
  {
   "cell_type": "code",
   "execution_count": 29,
   "id": "9e69b98d",
   "metadata": {},
   "outputs": [
    {
     "name": "stdout",
     "output_type": "stream",
     "text": [
      "hello my name is haider\n",
      "5.0\n",
      "hello name\n",
      "hello Haider\n"
     ]
    }
   ],
   "source": [
    "# syntax error,\n",
    "\n",
    "# print(hello my name is haider) here it has syntax error and program will give an error because we have not put inverted commas\n",
    "\n",
    "print(\"hello my name is haider\")\n",
    "\n",
    "# runtime error\n",
    "\n",
    "# print(25/0) # Runtime error\n",
    "print (25/5)\n",
    "\n",
    "#Semantics error, very hard to track and troubleshoot\n",
    "\n",
    "name=\"Haider\"\n",
    "print (\"hello name\") # it contains a semantic error because name is a variable, \n",
    "                     # if you want to print its value it should be out of commas\n",
    "print (\"hello\", name)"
   ]
  },
  {
   "cell_type": "code",
   "execution_count": null,
   "id": "cab32546",
   "metadata": {},
   "outputs": [],
   "source": []
  }
 ],
 "metadata": {
  "kernelspec": {
   "display_name": "Python 3 (ipykernel)",
   "language": "python",
   "name": "python3"
  },
  "language_info": {
   "codemirror_mode": {
    "name": "ipython",
    "version": 3
   },
   "file_extension": ".py",
   "mimetype": "text/x-python",
   "name": "python",
   "nbconvert_exporter": "python",
   "pygments_lexer": "ipython3",
   "version": "3.9.7"
  }
 },
 "nbformat": 4,
 "nbformat_minor": 5
}
